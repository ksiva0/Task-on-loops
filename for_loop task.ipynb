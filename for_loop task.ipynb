{
 "cells": [
  {
   "cell_type": "markdown",
   "id": "eaeddc80",
   "metadata": {},
   "source": [
    "35. Write a function that returns the longest sequence of consecutive zeroes in a binary string."
   ]
  },
  {
   "cell_type": "code",
   "execution_count": 1,
   "id": "0cf1e6cc",
   "metadata": {},
   "outputs": [
    {
     "name": "stdout",
     "output_type": "stream",
     "text": [
      "binary string: 101001000001010\n",
      "5\n"
     ]
    }
   ],
   "source": [
    "count = 0\n",
    "max_count = 0\n",
    "\n",
    "# Loop through each character in the input string\n",
    "for char in input(\"binary string: \"):\n",
    "\n",
    "  # If the character is a zero, increment the count by one\n",
    "    if char == '0':\n",
    "        count += 1\n",
    "\n",
    "  # If the character is not a zero, reset the count to zero\n",
    "    else:\n",
    "        count = 0\n",
    "\n",
    "  # Update the maximum count if the current count is greater\n",
    "    max_count = max(max_count, count)\n",
    "print(max_count)"
   ]
  },
  {
   "cell_type": "markdown",
   "id": "c164d01e",
   "metadata": {},
   "source": [
    "36. Write a function that takes a string of one or more words as an argument and returns the same string, but with all five or more letter words reversed. Strings passed in will consist of only letters and spaces. Spaces will be included only when more than one word is present."
   ]
  },
  {
   "cell_type": "code",
   "execution_count": 1,
   "id": "6708fe96",
   "metadata": {},
   "outputs": [
    {
     "name": "stdout",
     "output_type": "stream",
     "text": [
      "Give a string: I'm in happy mood\n",
      "I'm in yppah mood\n"
     ]
    }
   ],
   "source": [
    "string=input(\"Give a string: \")\n",
    "words=string.split() # here split the string into words\n",
    "for i in range(len(words)):\n",
    "    if len(words[i]) >=5: #here condition checks words  5 or more letter\n",
    "        words[i]=words[i][::-1] # here reversed the words\n",
    "string2=' '.join(words) #  joins the updated string\n",
    "print(string2)"
   ]
  },
  {
   "cell_type": "markdown",
   "id": "ad6b9d3e",
   "metadata": {},
   "source": [
    "37. Create a function that returns the frequency distribution of a list. This function should return an object, where the keys are the unique elements and the values are the frequency in which those elements occur."
   ]
  },
  {
   "cell_type": "code",
   "execution_count": 4,
   "id": "eafb2eab",
   "metadata": {},
   "outputs": [
    {
     "name": "stdout",
     "output_type": "stream",
     "text": [
      "{1: 3, 2: 3, 4: 2, 5: 2}\n"
     ]
    }
   ],
   "source": [
    "list = [1,2,4,1,4,2,5,1,2,5]\n",
    "x={} # adding empty frequency distribution\n",
    "for items in list: \n",
    "    x[items]=list.count(items) #here count funtion used to count the words\n",
    "print(x)"
   ]
  },
  {
   "cell_type": "markdown",
   "id": "e324020f",
   "metadata": {},
   "source": [
    "38. Write a function that returns the groups in the school by year (as a string), separated with a comma and a space in the form of \"1a, 1b, 1c, 1d, 1e, 2a, 2b (....) 5d, 5e, 6a, 6b, 6c, 6d, 6e\"."
   ]
  },
  {
   "cell_type": "code",
   "execution_count": 6,
   "id": "4f8486a5",
   "metadata": {},
   "outputs": [
    {
     "name": "stdout",
     "output_type": "stream",
     "text": [
      "1a, 1b, 1c, 1d, 1e, 2a, 2b, 2c, 2d, 2e, 3a, 3b, 3c, 3d, 3e, 4a, 4b, 4c, 4d, 4e, 5a, 5b, 5c, 5d, 5e, 6a, 6b, 6c, 6d, 6e\n"
     ]
    }
   ],
   "source": [
    "#years=range(1,7)\n",
    "group_names=['a','b','c','d','e']\n",
    "school_group=[] # assing the empty list for schhol group\n",
    "for a in  range(1,7):\n",
    "    for group in group_names:\n",
    "        school_group.append(str(a)+group) # adding the years nd grp names\n",
    "r=\", \".join(school_group) # joining   and spearted by , and space\n",
    "print(r)"
   ]
  },
  {
   "cell_type": "markdown",
   "id": "b5012c8f",
   "metadata": {},
   "source": [
    "39. Create a function that takes a list of numbers and returns a list where each number is the sum of itself + all previous numbers in the list.\n"
   ]
  },
  {
   "cell_type": "code",
   "execution_count": 7,
   "id": "0066358f",
   "metadata": {},
   "outputs": [
    {
     "name": "stdout",
     "output_type": "stream",
     "text": [
      "Enter numbers separated by spaces: 2 6 8\n",
      "[2, 8, 16]\n"
     ]
    }
   ],
   "source": [
    "l = input(\"Enter numbers separated by spaces: \") #input the number \n",
    "numbers = l.split()# here split the number by space\n",
    "new_list = []# assign the empty list \n",
    "j = 0\n",
    "\n",
    "for i in range(len(numbers)):\n",
    "    num = int(numbers[i]) #type casting convert into integer\n",
    "    j += num #\n",
    "    new_list.append(j)# adding to new_list\n",
    "print(new_list)"
   ]
  },
  {
   "cell_type": "markdown",
   "id": "d95784d0",
   "metadata": {},
   "source": [
    "40. Create a function that accepts a string as an argument and returns the first non-repeated character."
   ]
  },
  {
   "cell_type": "code",
   "execution_count": 9,
   "id": "e36d2cf2",
   "metadata": {},
   "outputs": [
    {
     "name": "stdout",
     "output_type": "stream",
     "text": [
      "Enter a string : Siva Sankar\n",
      "i\n"
     ]
    }
   ],
   "source": [
    "string= input(\"Enter a string : \") #input\n",
    "for i in string: \n",
    "    if string.count(i)==1: # if string count is equal to 1 \n",
    "        print(i) \n",
    "        break "
   ]
  },
  {
   "cell_type": "markdown",
   "id": "83e2696d",
   "metadata": {},
   "source": [
    "41. Create a function that returns True if an asterisk * is inside a box.\n"
   ]
  },
  {
   "cell_type": "code",
   "execution_count": 10,
   "id": "537e15f5",
   "metadata": {},
   "outputs": [
    {
     "name": "stdout",
     "output_type": "stream",
     "text": [
      "Give a string: he*llo\n",
      "True\n"
     ]
    }
   ],
   "source": [
    "s = input(\"Give a string: \")  # Input the string\n",
    "asterisk = False  \n",
    "for i in s:\n",
    "    if i == '*': # condition check weather * is in string r not\n",
    "        asterisk = True\n",
    "        break \n",
    "print(asterisk)"
   ]
  },
  {
   "cell_type": "markdown",
   "id": "5e788728",
   "metadata": {},
   "source": [
    "42. Write a function that takes a list and returns a new list with unique positive (more than 0) numbers."
   ]
  },
  {
   "cell_type": "code",
   "execution_count": 1,
   "id": "4176ee1e",
   "metadata": {},
   "outputs": [
    {
     "name": "stdout",
     "output_type": "stream",
     "text": [
      "Enter a integer seperated by space: 2 3 4 5 6\n",
      "[2, 3, 4, 5, 6]\n"
     ]
    }
   ],
   "source": [
    "a=input(\"Enter a integer seperated by space: \")\n",
    "l=a.split()\n",
    "positive_uniq=set()\n",
    "for b in l:\n",
    "    num=int(b)\n",
    "    if num >0:\n",
    "        positive_uniq.add(num)\n",
    "        new=list(positive_uniq)\n",
    "print(new)"
   ]
  },
  {
   "cell_type": "markdown",
   "id": "aa55bfee",
   "metadata": {},
   "source": [
    "43. An employee working at a very bizarre company earns one penny on their first day. However, for every day that passes, their base amount doubles, so they earn two pennies on the second day and four pennies on the third day (totalling 7 pennies). Given a number of days, return how many pennies the employee accumulates."
   ]
  },
  {
   "cell_type": "code",
   "execution_count": 2,
   "id": "d72b50a1",
   "metadata": {},
   "outputs": [
    {
     "name": "stdout",
     "output_type": "stream",
     "text": [
      "Enter no of days5\n",
      "The total pay after 5 days is 31\n"
     ]
    }
   ],
   "source": [
    "num_days=int(input(\"Enter no of days\")) # input the no of days\n",
    "day_earn=1 #per day earning \n",
    "total_pennies=0 \n",
    "for day in range(1,num_days+1):# range 1 to num_days + 1\n",
    "    total_pennies+=day_earn\n",
    "    day_earn*=2\n",
    "print(\"The total pay after {} days is {}\".format(num_days,total_pennies))\n"
   ]
  },
  {
   "cell_type": "markdown",
   "id": "592a2c7b",
   "metadata": {},
   "source": [
    "44. Create a function that takes a string as an argument and converts the first character of each word to uppercase. Return the newly formatted string."
   ]
  },
  {
   "cell_type": "code",
   "execution_count": 3,
   "id": "2a759af4",
   "metadata": {},
   "outputs": [
    {
     "name": "stdout",
     "output_type": "stream",
     "text": [
      "Give a string: we are playing cricket\n",
      "We Are Playing Cricket\n"
     ]
    }
   ],
   "source": [
    "string = input(\"Give a string: \")\n",
    "words = string.split()  # Split the input string into words\n",
    "formatted_string = [] # assign empty new formatted string\n",
    "\n",
    "for word in words: \n",
    "    if word:  # condition check word is not empty\n",
    "        capitalize = word.title()# # Capitalize the first character in word\n",
    "        formatted_string.append(capitalize)\n",
    "    else:\n",
    "        formatted_string.append('')  # Add empty string for empty words\n",
    "\n",
    "formatted_string = ' '.join(formatted_string)  # Join the formatted words update into formatted string\n",
    "\n",
    "print(formatted_string)\n"
   ]
  },
  {
   "cell_type": "markdown",
   "id": "aca6b66c",
   "metadata": {},
   "source": [
    "45.Create a function that takes a list of parallel resistance values, and calculates the total resistance of the circuit."
   ]
  },
  {
   "cell_type": "code",
   "execution_count": 5,
   "id": "a67bb6bc",
   "metadata": {},
   "outputs": [
    {
     "name": "stdout",
     "output_type": "stream",
     "text": [
      "resistors connected to circuit: 4\n",
      "Enter the resistance value for resistor 1 (in ohms): 0.9\n",
      "Enter the resistance value for resistor 2 (in ohms): 0.7\n",
      "Enter the resistance value for resistor 3 (in ohms): 1.2\n",
      "Enter the resistance value for resistor 4 (in ohms): 1.0\n",
      "[0.9, 0.7, 1.2, 1.0]\n"
     ]
    }
   ],
   "source": [
    "# get input from user\n",
    "r = int(input(\"resistors connected to circuit: \"))\n",
    "\n",
    "resistance = []\n",
    "i = 0\n",
    "for i in range(r):\n",
    "    x = float(input(f\"Enter the resistance value for resistor {i + 1} (in ohms): \"))\n",
    "    resistance.append(x)\n",
    "        \n",
    "t = sum(resistance)\n",
    "\n",
    "print(resistance)"
   ]
  },
  {
   "cell_type": "markdown",
   "id": "8c1e323f",
   "metadata": {},
   "source": [
    "46. Create a function that will remove the letters \"a\", \"b\" and \"c\" from the given string and return the modified version. If the given string does not contain \"a\", \"b\", or \"c\", return None."
   ]
  },
  {
   "cell_type": "code",
   "execution_count": 6,
   "id": "4b501a20",
   "metadata": {},
   "outputs": [
    {
     "name": "stdout",
     "output_type": "stream",
     "text": [
      "Enter a string: we are playing\n",
      "we  re pl ying\n"
     ]
    }
   ],
   "source": [
    "string = input(\"Enter a string: \") # input the string\n",
    "new_string=string # assign same to new_string\n",
    "for w in \"abc\":\n",
    "    new_string = new_string.replace(w, ' ') #replace abc with space\n",
    "if new_string!=string:# check the condition\n",
    "    print(new_string)\n",
    "else:\n",
    "    print(\"None\")\n",
    "\n"
   ]
  },
  {
   "cell_type": "markdown",
   "id": "05b0d9f1",
   "metadata": {},
   "source": [
    "47. Write a function that takes two lists and adds the first element in the first list with the first element in the second list, the second element in the first list with the second element in the second list, etc, etc. Return True if all element combinations add up to the same number. Otherwise, return False."
   ]
  },
  {
   "cell_type": "code",
   "execution_count": 9,
   "id": "5f927c55",
   "metadata": {},
   "outputs": [
    {
     "name": "stdout",
     "output_type": "stream",
     "text": [
      "Enter the first list: 2578\n",
      "Enter the second list: 2467\n",
      "5045\n"
     ]
    }
   ],
   "source": [
    "input_str = input(\"Enter the first list: \")\n",
    "list1 = [int(x) for x in input_str.split()]\n",
    "list=input_str.split()\n",
    "input_str = input(\"Enter the second list: \")\n",
    "list2 = [int(x) for x in input_str.split()]\n",
    "\n",
    "if len(list1) != len(list2):\n",
    "    print(False)\n",
    "else:\n",
    "    total = list1[0] + list2[0]\n",
    "    are_equal = True\n",
    "\n",
    "    for i in range(1, len(list1)):\n",
    "        if list1[i] + list2[i] != total:\n",
    "            are_equal = False\n",
    "            break\n",
    "\n",
    "    print(total)"
   ]
  },
  {
   "cell_type": "markdown",
   "id": "5cbd9539",
   "metadata": {},
   "source": [
    "48. Your friend is trying to write a function to accomplish the following transformations:"
   ]
  },
  {
   "cell_type": "code",
   "execution_count": 11,
   "id": "08c31785",
   "metadata": {},
   "outputs": [
    {
     "name": "stdout",
     "output_type": "stream",
     "text": [
      "Enter integers separated by commas: 2,4,6,8\n",
      "Original list: [2, 4, 6, 8]\n",
      "new list: [3, 4, 7, 9]\n"
     ]
    }
   ],
   "source": [
    "l = input(\"Enter integers separated by commas: \")\n",
    "list2 = l.split(',') # split  the values by ,\n",
    "list1 = [int(x) for x in list2] #list comphresion\n",
    "\n",
    "new_list = []  # Initialize an empty list for modified values\n",
    "for i in range(len(list1)):\n",
    "    if i in [0, 2, 5,3]: # check the value\n",
    "        new_list.append(list1[i] + 1)\n",
    "    else:\n",
    "        new_list.append(list1[i])\n",
    "\n",
    "print(\"Original list:\", list1)\n",
    "print(\"new list:\", new_list)\n"
   ]
  },
  {
   "cell_type": "markdown",
   "id": "53b64698",
   "metadata": {},
   "source": [
    "49. Create a function that takes a string and returns a new string with each new character accumulating by +1. Separate each set with a dash."
   ]
  },
  {
   "cell_type": "code",
   "execution_count": 12,
   "id": "f5f42584",
   "metadata": {},
   "outputs": [
    {
     "name": "stdout",
     "output_type": "stream",
     "text": [
      "Enter a string: HelloWorld\n",
      "H-Ee-Lll-Llll-Ooooo-Wwwwww-Ooooooo-Rrrrrrrr-Lllllllll-Dddddddddd\n"
     ]
    }
   ],
   "source": [
    "s = input(\"Enter a string: \") # input the string\n",
    "new_string = [] # empty string \n",
    "\n",
    "for i in range(len(s)): #forloop\n",
    "    new_string.append(s[i].upper() + s[i].lower() * i) #here first leter captial and remanins lowers and increment\n",
    "\n",
    "r = '-'.join(new_string) # join with '-'\n",
    "print(r)"
   ]
  },
  {
   "cell_type": "markdown",
   "id": "bcb6543a",
   "metadata": {},
   "source": [
    "50. A list is special if every even index contains an even number and every odd index contains an odd number. Create a function that returns True if an array is special, and False otherwise."
   ]
  },
  {
   "cell_type": "code",
   "execution_count": 14,
   "id": "47a7149d",
   "metadata": {},
   "outputs": [
    {
     "name": "stdout",
     "output_type": "stream",
     "text": [
      "Enter a numbers: 2,4,68,7,8\n",
      "False\n"
     ]
    }
   ],
   "source": [
    "a = input(\"Enter a numbers: \") #input the user \n",
    "b = a.split(',')# heree split the number using comma\n",
    "arr = [int(x) for x in b]#list comphreshion\n",
    "\n",
    "is_special = True\n",
    "\n",
    "for i in range(len(arr)): #forloop\n",
    "    if i % 2 == 0 and arr[i] % 2 != 0:#here even number odd number\n",
    "        is_special = False\n",
    "        break #break the llop\n",
    "    if i % 2 == 1 and arr[i] % 2 != 1:\n",
    "        is_special = False\n",
    "        break\n",
    "\n",
    "print(is_special)\n"
   ]
  },
  {
   "cell_type": "markdown",
   "id": "9a7bec6b",
   "metadata": {},
   "source": [
    "51. Write a function that returns the position of the second occurrence of \"zip\" in a string, or -1 if it does not occur at least twice. Your code should be general enough to pass every possible case where \"zip\" can occur in a string."
   ]
  },
  {
   "cell_type": "code",
   "execution_count": 14,
   "id": "38583d32",
   "metadata": {},
   "outputs": [
    {
     "name": "stdout",
     "output_type": "stream",
     "text": [
      "Enter string: zipzipzipzip\n",
      "3\n"
     ]
    }
   ],
   "source": [
    "str = input(\"Enter string: \")\n",
    "count = 0\n",
    "i = 0\n",
    "for i in range(len(str)):\n",
    "    if str[i:i+3] == \"zip\":\n",
    "        count += 1\n",
    "        if count == 2:\n",
    "            print(i)\n",
    "            break\n",
    "    i += 1\n",
    "else:\n",
    "    print(-1)"
   ]
  },
  {
   "cell_type": "markdown",
   "id": "20978215",
   "metadata": {},
   "source": [
    "52. Create a function which adds spaces before every capital in a word. Uncapitalize the whole string afterwards."
   ]
  },
  {
   "cell_type": "code",
   "execution_count": 1,
   "id": "0283abbf",
   "metadata": {},
   "outputs": [
    {
     "name": "stdout",
     "output_type": "stream",
     "text": [
      "Enter a string:HelloWorld\n",
      "hello world\n"
     ]
    }
   ],
   "source": [
    "s=input(\"Enter a string:\")\n",
    "r=\"\"\n",
    "for i in  s:\n",
    "    if i.isupper():\n",
    "        r+=\" \"+i\n",
    "    else:\n",
    "        r+=i\n",
    "r=r.lower().lstrip()\n",
    "print(r)"
   ]
  },
  {
   "cell_type": "markdown",
   "id": "12b3528e",
   "metadata": {},
   "source": [
    "53. Create a function that counts the integer's number of digits."
   ]
  },
  {
   "cell_type": "code",
   "execution_count": 3,
   "id": "a1daaeca",
   "metadata": {},
   "outputs": [
    {
     "name": "stdout",
     "output_type": "stream",
     "text": [
      "Enter an integer: 1234576585433423\n",
      "Number of digits: 16\n"
     ]
    }
   ],
   "source": [
    "n1 = int(input(\"Enter an integer: \"))  # integer input\n",
    "n1_str = str(n1)  # Convert the integer to a string to iterate through its digits\n",
    "\n",
    "count = 0  #count variable\n",
    "\n",
    "for i in n1_str:\n",
    "    if i.isdigit(): # check it is digit r not\n",
    "        count += 1 # increment of 1\n",
    "\n",
    "print(\"Number of digits:\", count)\n"
   ]
  },
  {
   "cell_type": "markdown",
   "id": "bcb7cf50",
   "metadata": {},
   "source": [
    "54.Create a function that performs an even-odd transform to a list, n times. Each even-odd transformation:\n",
    "\n",
    "Adds two (+2) to each odd integer.<br>\n",
    "Subtracts two (-2) from each even integer.\n"
   ]
  },
  {
   "cell_type": "code",
   "execution_count": 7,
   "id": "c6870602",
   "metadata": {},
   "outputs": [
    {
     "name": "stdout",
     "output_type": "stream",
     "text": [
      "[-6, -2, -8, 19, -4]\n"
     ]
    }
   ],
   "source": [
    "l=[4,8,2,9,6] # given list\n",
    "n=5 # no of integers\n",
    "for _ in range(n):\n",
    "    for i in range(len(l)):\n",
    "        if l[i]%2==0: # given number divided by 2\n",
    "            l[i] -=2 # sub by -2\n",
    "        else:\n",
    "            l[i] +=2 # or add by +2\n",
    "print(l)\n"
   ]
  },
  {
   "cell_type": "markdown",
   "id": "097640fb",
   "metadata": {},
   "source": [
    "55. Given a string containing unique letters, return a sorted string with the letters that don't appear in the string."
   ]
  },
  {
   "cell_type": "code",
   "execution_count": 8,
   "id": "b3dbddb4",
   "metadata": {},
   "outputs": [
    {
     "name": "stdout",
     "output_type": "stream",
     "text": [
      "Enter a string:we are playing\n",
      "bcdfhjkmoqstuvxz\n"
     ]
    }
   ],
   "source": [
    "s=input(\"Enter a string:\")\n",
    "unique_letters=set(s)\n",
    "ml=\"\"\n",
    "for letter in 'abcdefghijklmnopqrstuvwxyz':\n",
    "    if letter not in unique_letters:\n",
    "        ml +=letter\n",
    "r= ''.join(sorted(ml))\n",
    "print(r)"
   ]
  },
  {
   "cell_type": "markdown",
   "id": "eaf98907",
   "metadata": {},
   "source": [
    "56. Create a function that takes a list of numbers and return \"Boom!\" if the digit 7 appears in the list. Otherwise, return \"there is no 7 in the list\"."
   ]
  },
  {
   "cell_type": "code",
   "execution_count": 9,
   "id": "3c10f6eb",
   "metadata": {},
   "outputs": [
    {
     "name": "stdout",
     "output_type": "stream",
     "text": [
      "Boom!\n"
     ]
    }
   ],
   "source": [
    "list = [1, 2, 3, 4, 5, 6, 7, 8, 9]\n",
    "\n",
    "# Use a for loop to iterate through the list\n",
    "for number in list:\n",
    "    # Check if the current number contains the digit 7\n",
    "    if \"7\" in str(number):\n",
    "        # If it does, print \"Boom!\" and break out of the loop\n",
    "        print(\"Boom!\")\n",
    "        break\n",
    "else:\n",
    "    # If the loop completes without finding the digit 7, print \"no 7 in the list\"\n",
    "    print(\"no 7 in list\")"
   ]
  },
  {
   "cell_type": "markdown",
   "id": "75984cf3",
   "metadata": {},
   "source": [
    "57. Let's assume for the purposes of this challenge that for every layer of fabric you wear when it's cold outside (coats, cardigans, etc), the temperature increases by a tenth of the total.\n",
    "\n",
    "Given n number of layers and a given temperature, return the temperature inside of all those warm fuzzy layers. Round to the nearest tenth of a degree."
   ]
  },
  {
   "cell_type": "code",
   "execution_count": 10,
   "id": "e7acdab7",
   "metadata": {},
   "outputs": [
    {
     "name": "stdout",
     "output_type": "stream",
     "text": [
      "16.1\n"
     ]
    }
   ],
   "source": [
    "# number of layers\n",
    "n =5\n",
    "temperature = 10\n",
    "\n",
    "for i in range(n):\n",
    "    # calculate the temperature \n",
    "    temperature_increase = temperature/10   \n",
    "    temperature += temperature_increase\n",
    "    \n",
    "# print the final temperature\n",
    "print(round(temperature,1))"
   ]
  },
  {
   "cell_type": "markdown",
   "id": "1afa1de6",
   "metadata": {},
   "source": [
    "58. You are given one input: a list containing eight 1's and/or 0's. Write a function that takes an 8 bit binary number and converts it to decimal."
   ]
  },
  {
   "cell_type": "code",
   "execution_count": 11,
   "id": "907d57ba",
   "metadata": {},
   "outputs": [
    {
     "name": "stdout",
     "output_type": "stream",
     "text": [
      "Enter number: 11010001\n",
      "209\n"
     ]
    }
   ],
   "source": [
    "# get input from user\n",
    "x = input(\"Enter number: \")\n",
    "decimal = 0    # variable to store the decimal\n",
    "\n",
    "for i in range(len(x)):\n",
    "    # convert the character to an integer and multiply by the corresponding power of 2\n",
    "    decimal += int(x[i]) * (2 ** (len(x) - i - 1))\n",
    "    \n",
    "# print decimal number\n",
    "print(decimal)\n"
   ]
  },
  {
   "cell_type": "markdown",
   "id": "88355589",
   "metadata": {},
   "source": [
    "59. Write a function that finds the largest even number in a list. Return -1 if not found. The use of built-in functions max() and sorted() are prohibited."
   ]
  },
  {
   "cell_type": "code",
   "execution_count": 12,
   "id": "0503b5d4",
   "metadata": {},
   "outputs": [
    {
     "name": "stdout",
     "output_type": "stream",
     "text": [
      "88\n"
     ]
    }
   ],
   "source": [
    "list = [12,34,22,21,65,88,99]\n",
    "largest_even = -1   # initialize the largest even number variable\n",
    "\n",
    "for num in list:\n",
    "    # check the list to find the largest number\n",
    "    if num % 2 == 0 and num > largest_even:\n",
    "        largest_even = num\n",
    "print(largest_even)"
   ]
  }
 ],
 "metadata": {
  "kernelspec": {
   "display_name": "Python 3 (ipykernel)",
   "language": "python",
   "name": "python3"
  },
  "language_info": {
   "codemirror_mode": {
    "name": "ipython",
    "version": 3
   },
   "file_extension": ".py",
   "mimetype": "text/x-python",
   "name": "python",
   "nbconvert_exporter": "python",
   "pygments_lexer": "ipython3",
   "version": "3.11.5"
  }
 },
 "nbformat": 4,
 "nbformat_minor": 5
}
